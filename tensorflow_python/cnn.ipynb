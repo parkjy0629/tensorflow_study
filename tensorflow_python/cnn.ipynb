{
  "nbformat": 4,
  "nbformat_minor": 0,
  "metadata": {
    "colab": {
      "provenance": [],
      "authorship_tag": "ABX9TyNUM86m9N/Az3W1iAtsA4bF",
      "include_colab_link": true
    },
    "kernelspec": {
      "name": "python3",
      "display_name": "Python 3"
    },
    "language_info": {
      "name": "python"
    }
  },
  "cells": [
    {
      "cell_type": "markdown",
      "metadata": {
        "id": "view-in-github",
        "colab_type": "text"
      },
      "source": [
        "<a href=\"https://colab.research.google.com/github/parkjy0629/tensorflow_study/blob/main/tensorflow_python/cnn.ipynb\" target=\"_parent\"><img src=\"https://colab.research.google.com/assets/colab-badge.svg\" alt=\"Open In Colab\"/></a>"
      ]
    },
    {
      "cell_type": "code",
      "execution_count": 1,
      "metadata": {
        "id": "i76-ww9BVo14"
      },
      "outputs": [],
      "source": [
        "# 라이브러리 사용\n",
        "import tensorflow as tf"
      ]
    },
    {
      "cell_type": "code",
      "source": [
        "# 샘플 이미지셋 불러오기\n",
        "(mnist_x, mnist_y), _ = tf.keras.datasets.mnist.load_data() # _는 데이터 값(사용하지 않을 것이라고 암묵적으로 표현)\n",
        "print(mnist_x.shape, mnist_y.shape)\n",
        "\n",
        "(cifar_x, cifar_y), _ = tf.keras.datasets.cifar10.load_data()\n",
        "print(cifar_x.shape, cifar_y.shape)"
      ],
      "metadata": {
        "colab": {
          "base_uri": "https://localhost:8080/"
        },
        "id": "GB0oW9lLVzJU",
        "outputId": "eb975e63-91f4-47a1-dbe8-b16191e60a2c"
      },
      "execution_count": 2,
      "outputs": [
        {
          "output_type": "stream",
          "name": "stdout",
          "text": [
            "Downloading data from https://storage.googleapis.com/tensorflow/tf-keras-datasets/mnist.npz\n",
            "\u001b[1m11490434/11490434\u001b[0m \u001b[32m━━━━━━━━━━━━━━━━━━━━\u001b[0m\u001b[37m\u001b[0m \u001b[1m0s\u001b[0m 0us/step\n",
            "(60000, 28, 28) (60000,)\n",
            "Downloading data from https://www.cs.toronto.edu/~kriz/cifar-10-python.tar.gz\n",
            "\u001b[1m170498071/170498071\u001b[0m \u001b[32m━━━━━━━━━━━━━━━━━━━━\u001b[0m\u001b[37m\u001b[0m \u001b[1m4s\u001b[0m 0us/step\n",
            "(50000, 32, 32, 3) (50000, 1)\n"
          ]
        }
      ]
    },
    {
      "cell_type": "code",
      "source": [
        "# 이미지 출력하기\n",
        "print(mnist_y[0:10])\n",
        "import matplotlib.pyplot as plt\n",
        "plt.imshow(mnist_x[4], cmap='gray')"
      ],
      "metadata": {
        "colab": {
          "base_uri": "https://localhost:8080/",
          "height": 467
        },
        "id": "_SmFBM0kWLuC",
        "outputId": "b2459d24-f0fb-4916-9597-f48c699e6fc3"
      },
      "execution_count": 4,
      "outputs": [
        {
          "output_type": "stream",
          "name": "stdout",
          "text": [
            "[5 0 4 1 9 2 1 3 1 4]\n"
          ]
        },
        {
          "output_type": "execute_result",
          "data": {
            "text/plain": [
              "<matplotlib.image.AxesImage at 0x7d306744b8e0>"
            ]
          },
          "metadata": {},
          "execution_count": 4
        },
        {
          "output_type": "display_data",
          "data": {
            "text/plain": [
              "<Figure size 640x480 with 1 Axes>"
            ],
            "image/png": "[encoded data removed]"
          },
          "metadata": {}
        }
      ]
    },
    {
      "cell_type": "code",
      "source": [
        "# 이미지 출력하기\n",
        "print(cifar_y[0:10])\n",
        "import matplotlib.pyplot as plt\n",
        "plt.imshow(cifar_x[0])\n",
        "# 이미지가 궁금하면 cifar10 검생해보면 이미지가 나옴"
      ],
      "metadata": {
        "colab": {
          "base_uri": "https://localhost:8080/",
          "height": 632
        },
        "id": "hMb-XfTcWqsw",
        "outputId": "4388e6cf-228a-48e0-8ece-50c833730682"
      },
      "execution_count": 5,
      "outputs": [
        {
          "output_type": "stream",
          "name": "stdout",
          "text": [
            "[[6]\n",
            " [9]\n",
            " [9]\n",
            " [4]\n",
            " [1]\n",
            " [1]\n",
            " [2]\n",
            " [7]\n",
            " [8]\n",
            " [3]]\n"
          ]
        },
        {
          "output_type": "execute_result",
          "data": {
            "text/plain": [
              "<matplotlib.image.AxesImage at 0x7d30672cfd00>"
            ]
          },
          "metadata": {},
          "execution_count": 5
        },
        {
          "output_type": "display_data",
          "data": {
            "text/plain": [
              "<Figure size 640x480 with 1 Axes>"
            ],
            "image/png": "[encoded data removed]"
          },
          "metadata": {}
        }
      ]
    },
    {
      "cell_type": "code",
      "source": [
        "# 차원 확인\n",
        "import numpy as np\n",
        "\n",
        "d1 = np.array([1, 2, 3, 4, 5])\n",
        "print(d1.shape)\n",
        "\n",
        "d2 = np.array([d1, d1, d1, d1])\n",
        "print(d2.shape)\n",
        "\n",
        "d3 = np.array([d2, d2, d2])\n",
        "print(d3.shape)\n",
        "\n",
        "d4 = np.array([d3, d3])\n",
        "print(d4.shape)"
      ],
      "metadata": {
        "colab": {
          "base_uri": "https://localhost:8080/"
        },
        "id": "DyX7FNo0XY6m",
        "outputId": "05ea2fcb-6358-4b7a-f4d4-c5ba5d4a39f0"
      },
      "execution_count": 6,
      "outputs": [
        {
          "output_type": "stream",
          "name": "stdout",
          "text": [
            "(5,)\n",
            "(4, 5)\n",
            "(3, 4, 5)\n",
            "(2, 3, 4, 5)\n"
          ]
        }
      ]
    },
    {
      "cell_type": "code",
      "source": [
        "# (5, ), (5, 1), (1, 5) 비교\n",
        "\n",
        "x1 = np.array([1, 2, 3, 4, 5])\n",
        "print(x1.shape)\n",
        "print(mnist_y[0:5])\n",
        "print(mnist_y[0:5].shape)\n",
        "\n",
        "x2 = np.array([[1, 2, 3, 4, 5]])\n",
        "print(x2.shape)\n",
        "\n",
        "x3 = np.array([[1], [2], [3], [4], [5]])\n",
        "print(x3.shape)\n",
        "print(cifar_y[0:5])\n",
        "print(cifar_y[0:5].shape)"
      ],
      "metadata": {
        "colab": {
          "base_uri": "https://localhost:8080/"
        },
        "id": "uYCrXuptXxrD",
        "outputId": "f3792fe3-6f27-4c56-d5bf-ed5f8049f205"
      },
      "execution_count": 7,
      "outputs": [
        {
          "output_type": "stream",
          "name": "stdout",
          "text": [
            "(5,)\n",
            "[5 0 4 1 9]\n",
            "(5,)\n",
            "(1, 5)\n",
            "(5, 1)\n",
            "[[6]\n",
            " [9]\n",
            " [9]\n",
            " [4]\n",
            " [1]]\n",
            "(5, 1)\n"
          ]
        }
      ]
    },
    {
      "cell_type": "code",
      "source": [],
      "metadata": {
        "id": "i3KLwf7yYRDN"
      },
      "execution_count": null,
      "outputs": []
    }
  ]
}